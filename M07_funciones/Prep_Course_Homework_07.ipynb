{
 "cells": [
  {
   "attachments": {},
   "cell_type": "markdown",
   "metadata": {},
   "source": [
    "## Funciones"
   ]
  },
  {
   "attachments": {},
   "cell_type": "markdown",
   "metadata": {},
   "source": [
    "1) Crear una función que reciba un número como parámetro y devuelva True si es primo y False si no lo es"
   ]
  },
  {
   "cell_type": "code",
   "execution_count": 9,
   "metadata": {},
   "outputs": [
    {
     "data": {
      "text/plain": [
       "True"
      ]
     },
     "execution_count": 9,
     "metadata": {},
     "output_type": "execute_result"
    }
   ],
   "source": [
    "def esPrimo(n):\n",
    "    ep = True\n",
    "    for i in range(2, n):\n",
    "        if n % i == 0:\n",
    "            ep = False\n",
    "            break\n",
    "    return ep\n",
    "\n",
    "esPrimo(2)\n"
   ]
  },
  {
   "attachments": {},
   "cell_type": "markdown",
   "metadata": {},
   "source": [
    "2) Utilizando la función del punto 1, realizar otra función que reciba de parámetro una lista de números y devuelva sólo aquellos que son primos en otra lista"
   ]
  },
  {
   "cell_type": "code",
   "execution_count": 10,
   "metadata": {},
   "outputs": [
    {
     "data": {
      "text/plain": [
       "[1, 2, 3, 5, 7]"
      ]
     },
     "execution_count": 10,
     "metadata": {},
     "output_type": "execute_result"
    }
   ],
   "source": [
    "def f(l):\n",
    "    lista = [i for i in l if esPrimo(i)]\n",
    "    return lista\n",
    "\n",
    "f([1, 2, 3, 4, 5, 6, 7, 8, 9, 10])\n",
    "\n"
   ]
  },
  {
   "attachments": {},
   "cell_type": "markdown",
   "metadata": {},
   "source": [
    "3) Crear una función que al recibir una lista de números, devuelva el que más se repite y cuántas veces lo hace. Si hay más de un \"más repetido\", que devuelva cualquiera"
   ]
  },
  {
   "cell_type": "code",
   "execution_count": 14,
   "metadata": {},
   "outputs": [
    {
     "data": {
      "text/plain": [
       "(9, 2)"
      ]
     },
     "execution_count": 14,
     "metadata": {},
     "output_type": "execute_result"
    }
   ],
   "source": [
    "def masRepetido(l):\n",
    "    lu = []\n",
    "    lr = []\n",
    "    if len(l) == 0:\n",
    "        return None\n",
    "    for e in l:\n",
    "        if e in lu:\n",
    "            i = lu.index(e)\n",
    "            lr[i] += 1\n",
    "        else:\n",
    "            lu.append(e)\n",
    "            lr.append(1)\n",
    "    moda = lu[0]\n",
    "    maximo = lr[0]\n",
    "    for i, e in enumerate(lu):\n",
    "        if lr[i] > maximo:\n",
    "            moda = lu[i]\n",
    "            maximo = lr[i]\n",
    "    return (moda, maximo)\n",
    "\n",
    "masRepetido([1, 2, 3, 4, 5, 6, 7, 8, 9, 9, 10])   \n"
   ]
  },
  {
   "attachments": {},
   "cell_type": "markdown",
   "metadata": {},
   "source": [
    "4) Crear una función que convierta entre grados Celsius, Farenheit y Kelvin<br>\n",
    "Fórmula 1\t: (°C × 9/5) + 32 = °F<br>\n",
    "Fórmula 2\t: °C + 273.15 = °K<br>\n",
    "Debe recibir 3 parámetros: el valor, la medida de orígen y la medida de destino\n"
   ]
  },
  {
   "cell_type": "code",
   "execution_count": 9,
   "metadata": {},
   "outputs": [
    {
     "data": {
      "text/plain": [
       "86.0"
      ]
     },
     "execution_count": 9,
     "metadata": {},
     "output_type": "execute_result"
    }
   ],
   "source": [
    "def formula(v, o, d):\n",
    "    vd = 0\n",
    "    if o == \"celcius\":\n",
    "        if d == \"celcius\":\n",
    "            vd = d\n",
    "        elif d == \"farenheit\":\n",
    "            vd = (v * 9 / 5) + 32\n",
    "        elif d == \"kelvin\":\n",
    "            vd = v + 273.15\n",
    "        else:\n",
    "            print(\"incorrecto\")\n",
    "    elif o == \"farenheit\":\n",
    "        if d == \"farenheit\":\n",
    "            vd = d\n",
    "        elif d == \"celcius\":\n",
    "            vd = (v - 32)* 5 / 9\n",
    "        elif d == \"kelvin\":\n",
    "            vd = ((v - 32) * 5 / 9) + 273.15\n",
    "        else:\n",
    "            print(\"error\")\n",
    "    elif o == \"kelvin\":\n",
    "        if d == \"kelvin\":\n",
    "            vd = d\n",
    "        elif d == \"celcius\":\n",
    "            vd = v - 273.15\n",
    "        elif d == \"farenheit\":\n",
    "            vd = ((v - 273.15) * 9 / 5) + 32\n",
    "        else:\n",
    "            print(\"error\")\n",
    "    else:\n",
    "        print(\"error\")\n",
    "    return vd\n",
    "formula(30, \"celcius\", \"farenheit\")"
   ]
  },
  {
   "attachments": {},
   "cell_type": "markdown",
   "metadata": {},
   "source": [
    "5) Iterando una lista con los tres valores posibles de temperatura que recibe la función del punto 5, hacer un print para cada combinación de los mismos:"
   ]
  },
  {
   "cell_type": "code",
   "execution_count": null,
   "metadata": {},
   "outputs": [],
   "source": []
  },
  {
   "attachments": {},
   "cell_type": "markdown",
   "metadata": {},
   "source": [
    "6) Armar una función que devuelva el factorial de un número. Tener en cuenta que el usuario puede equivocarse y enviar de parámetro un número no entero o negativo"
   ]
  },
  {
   "cell_type": "code",
   "execution_count": 10,
   "metadata": {},
   "outputs": [
    {
     "data": {
      "text/plain": [
       "2"
      ]
     },
     "execution_count": 10,
     "metadata": {},
     "output_type": "execute_result"
    }
   ],
   "source": [
    "def factorial(num):\n",
    "    if num < 0 or num == float:\n",
    "        print(\"numero equivocado\")\n",
    "    elif num > 1:\n",
    "        num = num * factorial(num - 1)\n",
    "    return num\n",
    "factorial(2)\n",
    "        \n",
    "    "
   ]
  }
 ],
 "metadata": {
  "interpreter": {
   "hash": "c85384e4cb51c8b72350f3a8712cc8351fdc3955e32a27f9b60c6242ab125f01"
  },
  "kernelspec": {
   "display_name": "Python 3 (ipykernel)",
   "language": "python",
   "name": "python3"
  },
  "language_info": {
   "codemirror_mode": {
    "name": "ipython",
    "version": 3
   },
   "file_extension": ".py",
   "mimetype": "text/x-python",
   "name": "python",
   "nbconvert_exporter": "python",
   "pygments_lexer": "ipython3",
   "version": "3.12.0"
  }
 },
 "nbformat": 4,
 "nbformat_minor": 4
}
